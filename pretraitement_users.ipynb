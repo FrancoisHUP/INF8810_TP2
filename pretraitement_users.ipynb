{
 "cells": [
  {
   "cell_type": "markdown",
   "metadata": {},
   "source": [
    "# Pretraitement\n",
    "Les fichiers qui utilisent l'extension `.json` sont en fait une liste de dictionnaire python. Il est donc impossible de l'importer avec la librairie `json` puisque les dictionnaires python utilisent des `single quotes` et non des `double quotes` pout les clefs.  \n",
    "\n",
    "Les fichiers doivent être convertis en csv.  "
   ]
  },
  {
   "cell_type": "code",
   "execution_count": null,
   "metadata": {},
   "outputs": [],
   "source": [
    "# Chaque ligne du fichier est un objet JSON sérialisé (un dict Python)\n",
    "\n",
    "json_seq = {\n",
    "    'user_id': '76561197970982479', \n",
    "    'user_url': 'http://steamcommunity.com/profiles/76561197970982479', \n",
    "    'reviews': [\n",
    "        {\n",
    "            'funny': '', \n",
    "            'posted': 'Posted November 5, 2011.', \n",
    "            'last_edited': '', \n",
    "            'item_id': '1250', \n",
    "            'helpful': 'No ratings yet', \n",
    "            'recommend': True, \n",
    "            'review': 'Simple yet with great replayability. In my opinion does \"zombie\" hordes and team work better than left 4 dead plus has a global leveling system. Alot of down to earth \"zombie\" splattering fun for the whole family. Amazed this sort of FPS is so rare.'\n",
    "        }, \n",
    "        {\n",
    "            'funny': '', \n",
    "            'posted': 'Posted July 15, 2011.', \n",
    "            'last_edited': '', \n",
    "            'item_id': '22200', \n",
    "            'helpful': 'No ratings yet', \n",
    "            'recommend': True, \n",
    "            'review': \"It's unique and worth a playthrough.\"\n",
    "        }, \n",
    "        {\n",
    "            'funny': '', \n",
    "            'posted': 'Posted April 21, 2011.', \n",
    "            'last_edited': '', \n",
    "            'item_id': '43110', \n",
    "            'helpful': 'No ratings yet', \n",
    "            'recommend': True, \n",
    "            'review': 'Great atmosphere. The gunplay can be a bit chunky at times but at the end of the day this game is definitely worth it and I hope they do a sequel...so buy the game so I get a sequel!'\n",
    "        }\n",
    "    ]\n",
    "}"
   ]
  },
  {
   "cell_type": "code",
   "execution_count": 1,
   "metadata": {},
   "outputs": [],
   "source": [
    "# Fonction pour importer les dictionnaires Python en liste\n",
    "\n",
    "import ast\n",
    "\n",
    "def import_python_dicts(filename):\n",
    "    dicts = []\n",
    "    with open(filename, 'r') as file:\n",
    "        for line in file:\n",
    "            try:\n",
    "                dictionary = ast.literal_eval(line.strip())\n",
    "                dicts.append(dictionary)\n",
    "            except (SyntaxError, ValueError) as e:\n",
    "                print(f\"Error parsing line: {line.strip()} - {e}\")\n",
    "    return dicts"
   ]
  },
  {
   "cell_type": "code",
   "execution_count": 2,
   "metadata": {},
   "outputs": [
    {
     "name": "stdout",
     "output_type": "stream",
     "text": [
      "{'funny': '', 'posted': 'Posted July 15, 2011.', 'last_edited': '', 'item_id': '22200', 'helpful': 'No ratings yet', 'recommend': True, 'review': \"It's unique and worth a playthrough.\"}\n",
      "{'funny': '', 'posted': 'Posted July 15, 2011.', 'last_edited': '', 'item_id': '22200', 'helpful': 'No ratings yet', 'recommend': True, 'review': \"It's unique and worth a playthrough.\", 'user_id': '76561197970982479'}\n",
      "{'funny': '', 'posted': 'Posted July 15, 2011.', 'last_edited': '', 'item_id': '22200', 'helpful': 'No ratings yet', 'recommend': True, 'review': \"It's unique and worth a playthrough.\", 'user_id': '76561197970982479'}\n"
     ]
    }
   ],
   "source": [
    "# Charger les reviews en dict python\n",
    "reviews = 'data/australian_user_reviews.json'\n",
    "reviews_dicts = import_python_dicts(reviews)\n",
    "print(reviews_dicts[0]['reviews'][1])\n",
    "\n",
    "# user_id = 0\n",
    "# Ajouter le user_id à chaque review\n",
    "for user in reviews_dicts:\n",
    "    for review in user['reviews']:\n",
    "        user_id = user['user_id']\n",
    "        review['user_id'] = user_id\n",
    "    # user_id += 1\n",
    "print(reviews_dicts[0]['reviews'][1])\n",
    "\n",
    "\n",
    "# Mettre chaque review sur une ligne\n",
    "all_reviews = []\n",
    "for user in reviews_dicts:\n",
    "    for review in user['reviews']:\n",
    "        all_reviews.append(review)\n",
    "\n",
    "\n",
    "print(all_reviews[1])"
   ]
  },
  {
   "cell_type": "code",
   "execution_count": 3,
   "metadata": {},
   "outputs": [
    {
     "name": "stdout",
     "output_type": "stream",
     "text": [
      "{'funny': '', 'posted': 'Posted December 4, 2015.', 'last_edited': 'Last edited December 5, 2015.', 'item_id': '370360', 'helpful': 'No ratings yet', 'recommend': True, 'review': '\"Run for fun? What the hell kind of fun is that?\"', 'user_id': 'evcentric'}\n",
      "{'funny': '', 'posted': 'Posted March 3.', 'last_edited': '', 'item_id': '299460', 'helpful': '3 of 7 people (43%) found this review helpful', 'recommend': True, 'review': 'Купила за 79 рублей. Всем рекомендую.', 'user_id': 'BecHyIIIka'}\n",
      "59305\n",
      "{'funny': 0, 'posted': '2015-12-04', 'last_edited': '2015-12-05', 'item_id': '370360', 'helpful': 0, 'recommend': True, 'review': '\"Run for fun? What the hell kind of fun is that?\"', 'user_id': 'evcentric'}\n",
      "{'funny': 0, 'posted': '2016-03-03', 'last_edited': '2016-03-03', 'item_id': '299460', 'helpful': 3, 'recommend': True, 'review': 'Купила за 79 рублей. Всем рекомендую.', 'user_id': 'BecHyIIIka'}\n",
      "59305\n"
     ]
    }
   ],
   "source": [
    "from datetime import datetime\n",
    "\n",
    "print(all_reviews[7])\n",
    "print(all_reviews[48950])\n",
    "print(len(all_reviews))\n",
    "\n",
    "\n",
    "for review in all_reviews:\n",
    "    review['funny'] = 0 if review['funny'] == '' else int(review['funny'].split(' ')[0].replace(',', ''))\n",
    "    review['posted'] = review['posted'][7:-1]\n",
    "    review['last_edited'] = review['last_edited'][12:-1] if review['last_edited'] != '' else review['posted']\n",
    "    review['helpful'] = 0 if review['helpful'] == 'No ratings yet' else int(review['helpful'].split(' ')[0].replace(',', ''))\n",
    "\n",
    "    if not '201' in review['posted']:\n",
    "        review['posted'] += ', 2016'\n",
    "\n",
    "    if not '201' in review['last_edited']:\n",
    "        review['last_edited'] += ', 2016'\n",
    "\n",
    "    # replace multiple spaces with single space\n",
    "    review['review'] = ' '.join(review['review'].split())\n",
    "\n",
    "\n",
    "# to datetime\n",
    "for review in all_reviews:\n",
    "    review['posted'] = datetime.strptime(review['posted'], '%B %d, %Y')\n",
    "    review['last_edited'] = datetime.strptime(review['last_edited'], '%B %d, %Y')\n",
    "    \n",
    "    review['posted'] = review['posted'].strftime('%Y-%m-%d')\n",
    "    review['last_edited'] = review['last_edited'].strftime('%Y-%m-%d')\n",
    "\n",
    "\n",
    "print(all_reviews[7])\n",
    "print(all_reviews[48950])\n",
    "print(len(all_reviews))"
   ]
  },
  {
   "cell_type": "code",
   "execution_count": 4,
   "metadata": {},
   "outputs": [
    {
     "name": "stdout",
     "output_type": "stream",
     "text": [
      "             user_id  funny      posted last_edited item_id  helpful  \\\n",
      "0  76561197970982479      0  2011-11-05  2011-11-05    1250        0   \n",
      "1  76561197970982479      0  2011-07-15  2011-07-15   22200        0   \n",
      "\n",
      "   recommend                                             review  \n",
      "0       True  Simple yet with great replayability. In my opi...  \n",
      "1       True               It's unique and worth a playthrough.  \n"
     ]
    }
   ],
   "source": [
    "import pandas as pd\n",
    "\n",
    "df = pd.DataFrame(all_reviews)\n",
    "# Mettre 'user_id' en premier\n",
    "cols = df.columns.tolist()\n",
    "cols = cols[-1:] + cols[:-1]\n",
    "df = df[cols]\n",
    "print(df.head(2))\n",
    "\n"
   ]
  },
  {
   "cell_type": "code",
   "execution_count": null,
   "metadata": {},
   "outputs": [
    {
     "name": "stdout",
     "output_type": "stream",
     "text": [
      "   user_id  funny      posted last_edited item_id  helpful  recommend  \\\n",
      "0        0      0  2011-11-05  2011-11-05    1250        0       True   \n",
      "1        0      0  2011-07-15  2011-07-15   22200        0       True   \n",
      "\n",
      "                                              review  \n",
      "0  Simple yet with great replayability. In my opi...  \n",
      "1               It's unique and worth a playthrough.  \n"
     ]
    }
   ],
   "source": [
    "# enlever les chars spéciaux\n",
    "# retire les commentaires russes....\n",
    "\n",
    "# df['review'] = df[\"review\"].apply(lambda x: ''.join([\" \" if ord(i) < 32 or ord(i) > 126 else i for i in x]))\n",
    "# print(df.head(2))"
   ]
  },
  {
   "cell_type": "code",
   "execution_count": 6,
   "metadata": {},
   "outputs": [],
   "source": [
    "df.to_csv('data_csv/aus_reviews.csv', index=False)"
   ]
  }
 ],
 "metadata": {
  "kernelspec": {
   "display_name": "ml",
   "language": "python",
   "name": "python3"
  },
  "language_info": {
   "codemirror_mode": {
    "name": "ipython",
    "version": 3
   },
   "file_extension": ".py",
   "mimetype": "text/x-python",
   "name": "python",
   "nbconvert_exporter": "python",
   "pygments_lexer": "ipython3",
   "version": "3.10.13"
  }
 },
 "nbformat": 4,
 "nbformat_minor": 2
}
