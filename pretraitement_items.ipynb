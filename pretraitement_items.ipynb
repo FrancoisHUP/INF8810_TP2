{
 "cells": [
  {
   "cell_type": "markdown",
   "metadata": {},
   "source": [
    "# Pretraitement\n",
    "Les fichiers utilisent l'extension `.json`, mais sont en fait une liste de dictionnaires python. Il est donc impossible de l'importer avec la librairie `json` puisque les dictionnaires python utilisent des `single quotes` et non des `double quotes` pout les clefs.  \n",
    "\n",
    "Les fichiers doivent être convertis en csv pour faciliter leur usage avec Neo4j.  \n",
    "\n",
    "Voici un exemple d'entré dans le fichier. :"
   ]
  },
  {
   "cell_type": "code",
   "execution_count": null,
   "metadata": {},
   "outputs": [],
   "source": [
    "# Chaque ligne du fichier est un objet JSON sérialisé (un dict Python)\n",
    "\n",
    "json_seq = {\n",
    "    'user_id': '76561198215949741', \n",
    "    'items_count': 2, \n",
    "    'steam_id': '76561198215949741', \n",
    "    'user_url': 'http://steamcommunity.com/profiles/76561198215949741', \n",
    "    'items': [\n",
    "        {\n",
    "            'item_id': '730', \n",
    "            'item_name': 'Counter-Strike: Global Offensive', \n",
    "            'playtime_forever': 38830, \n",
    "            'playtime_2weeks': 1025\n",
    "        },\n",
    "        {\n",
    "            'item_id': '236110', \n",
    "            'item_name': 'Dungeon Defenders II', \n",
    "            'playtime_forever': 23, \n",
    "            'playtime_2weeks': 23\n",
    "        }\n",
    "    ]\n",
    "}"
   ]
  },
  {
   "cell_type": "code",
   "execution_count": 2,
   "metadata": {},
   "outputs": [],
   "source": [
    "import pandas as pd\n",
    "import numpy as np\n",
    "import math"
   ]
  },
  {
   "cell_type": "code",
   "execution_count": 1,
   "metadata": {},
   "outputs": [],
   "source": [
    "# Fonction pour importer les dictionnaires Python en liste\n",
    "\n",
    "import ast\n",
    "\n",
    "def import_python_dicts(filename, lines=None):\n",
    "    dicts = []\n",
    "    line_count = 0\n",
    "    with open(filename, 'r') as file:\n",
    "        for line in file:\n",
    "            try:\n",
    "                dictionary = ast.literal_eval(line.strip())\n",
    "                dicts.append(dictionary)\n",
    "            except (SyntaxError, ValueError) as e:\n",
    "                print(f\"Error parsing line: {line.strip()} - {e}\")\n",
    "            line_count += 1\n",
    "            if lines == line_count:\n",
    "                break\n",
    "    return dicts"
   ]
  },
  {
   "cell_type": "code",
   "execution_count": null,
   "metadata": {},
   "outputs": [],
   "source": [
    "items = import_python_dicts('./data/australian_users_items.json')\n",
    "print('loaded', len(items), 'items')"
   ]
  },
  {
   "cell_type": "markdown",
   "metadata": {},
   "source": [
    "## Games\n",
    "On calcule le total de toutes les heures jouées et du nombre total de joueurs pour chaque jeu.    \n",
    "\n",
    "Les clefs désirés : \n",
    "`game_id`, `name`, `temps_total_joué`, `nombre_joueurs_joué`  "
   ]
  },
  {
   "cell_type": "code",
   "execution_count": null,
   "metadata": {},
   "outputs": [],
   "source": [
    "games = {}\n",
    "time_played = {}\n",
    "player_count = {}\n",
    "all_times_played = {}\n",
    "\n",
    "for user in items:\n",
    "    for item in user['items']:\n",
    "        games[item['item_id']] = item['item_name']\n",
    "        if item['item_id'] not in time_played:\n",
    "            time_played[item['item_id']] = item['playtime_forever']\n",
    "        else:\n",
    "            time_played[item['item_id']] += item['playtime_forever']\n",
    "        \n",
    "        # on ignore si le temps de jeu est de 0 pour un joueur\n",
    "        if item['playtime_forever'] > 0:\n",
    "            if item['item_id'] not in player_count:\n",
    "                player_count[item['item_id']] = 1\n",
    "            else:\n",
    "                player_count[item['item_id']] += 1\n",
    "\n",
    "            if item['item_id'] not in all_times_played:\n",
    "                all_times_played[item['item_id']] = [item['playtime_forever']]\n",
    "            else:\n",
    "                all_times_played[item['item_id']].append(item['playtime_forever'])"
   ]
  },
  {
   "cell_type": "markdown",
   "metadata": {},
   "source": [
    "Conversion des dictionnaires en DataFrame pour la sauvegarde en CSV.  \n",
    "On calcul aussi d'autres métriques comme le temps joué médian.  \n",
    "Pour réduire la grosseur de sauvegarde des fichiers, les temps sont convertis en heure à partir du temps en minutes.  "
   ]
  },
  {
   "cell_type": "code",
   "execution_count": null,
   "metadata": {},
   "outputs": [],
   "source": [
    "games_df = pd.DataFrame(list(games.items()), columns=['game_id', 'name'])\n",
    "\n",
    "for i, row in games_df.iterrows():\n",
    "    games_df.at[i, 'time_played'] = math.ceil(time_played[row['game_id']] / 60) if row['game_id'] in time_played else 0\n",
    "    games_df.at[i, 'player_count'] = player_count[row['game_id']] if row['game_id'] in player_count else 0\n",
    "    games_df.at[i, 'median_time_played'] = math.ceil(sorted(all_times_played[row['game_id']])[len(all_times_played[row['game_id']]) // 2] / 60) if row['game_id'] in all_times_played else 0\n",
    "\n",
    "games_df['time_played'] = games_df['time_played'].astype(int)\n",
    "games_df['player_count'] = games_df['player_count'].astype(int)\n",
    "games_df['median_time_played'] = games_df['median_time_played'].astype(int)\n",
    "games_df.to_csv('./data_csv/games_data.csv', index=False)"
   ]
  },
  {
   "cell_type": "code",
   "execution_count": 48,
   "metadata": {},
   "outputs": [
    {
     "name": "stdout",
     "output_type": "stream",
     "text": [
      "    game_id                              name  time_played  player_count  \\\n",
      "178     730  Counter-Strike: Global Offensive     13086405         43279   \n",
      "\n",
      "     median_time_played  \n",
      "178                 113  \n"
     ]
    }
   ],
   "source": [
    "# show max median time played with player count over 100\n",
    "df_over_100 = games_df[games_df['player_count'] > 10]\n",
    "max_median_time_played = df_over_100['median_time_played'].max()\n",
    "print(df_over_100[df_over_100['median_time_played'] == max_median_time_played])\n"
   ]
  },
  {
   "cell_type": "markdown",
   "metadata": {},
   "source": [
    "## User lib  \n",
    "\n",
    "Ici les manipulations sont plus simples. On ne fait que faire une entré par paire de joueur-jeu possédé. La conversion du temps en heure est aussi appliqué. Nous avons un champ du temps joué dans les deux derniéres semaines que nous simplifions pour indiquer si le joueur est actif à ce jeu.  \n",
    "\n",
    "Voici les clef désirées : \n",
    "`user_id`, `game_id`, `playtime (hours)`, `active (bool)`"
   ]
  },
  {
   "cell_type": "code",
   "execution_count": null,
   "metadata": {},
   "outputs": [],
   "source": [
    "users_games = []\n",
    "for user in items:\n",
    "    if user['items_count'] == 0:\n",
    "        continue\n",
    "    for item in user['items']:\n",
    "        # if item['playtime_forever'] > 0:\n",
    "        users_games.append({\n",
    "            'user_id': user['user_id'],\n",
    "            'game_id': item['item_id'],\n",
    "            'playtime': math.ceil(item['playtime_forever'] / 60),\n",
    "            'active': item['playtime_2weeks'] > 0\n",
    "        })"
   ]
  },
  {
   "cell_type": "code",
   "execution_count": 16,
   "metadata": {},
   "outputs": [],
   "source": [
    "users_games_df = pd.DataFrame(users_games)\n",
    "users_games_df.to_csv('./data_csv/users_games.csv', index=False)"
   ]
  },
  {
   "cell_type": "markdown",
   "metadata": {},
   "source": [
    "## User data\n",
    "\n",
    "Ici nous sauvegardons l'information sur le joueur donc son jeu le plus joué à des fins de recommendation futures.  \n",
    "\n",
    "Les clefs sont : \n",
    "`user_id`, `games_count`, `total_playtime`, `most_played_game_id`"
   ]
  },
  {
   "cell_type": "code",
   "execution_count": 49,
   "metadata": {},
   "outputs": [],
   "source": [
    "users_data = []\n",
    "for user in items:\n",
    "    if user['items_count'] == 0:\n",
    "        continue\n",
    "\n",
    "    total_playtime = 0\n",
    "    for item in user['items']:\n",
    "        total_playtime += item['playtime_forever']\n",
    "\n",
    "    played_games = len([item for item in user['items'] if item['playtime_forever'] > 0])\n",
    "    \n",
    "    # if total_playtime == 0:\n",
    "    #     continue\n",
    "\n",
    "    most_played_game = max(user['items'], key=lambda x: x['playtime_forever'])\n",
    "\n",
    "    users_data.append({\n",
    "        'user_id': user['user_id'],\n",
    "        'items_count': user['items_count'],\n",
    "        'played_games': played_games,\n",
    "        'total_playtime': math.ceil(total_playtime / 60),\n",
    "        'most_played_game_id': most_played_game['item_id'],\n",
    "    })"
   ]
  },
  {
   "cell_type": "code",
   "execution_count": 50,
   "metadata": {},
   "outputs": [],
   "source": [
    "users_data_df = pd.DataFrame(users_data)\n",
    "users_data_df.to_csv('./data_csv/users_data.csv', index=False)"
   ]
  },
  {
   "cell_type": "markdown",
   "metadata": {},
   "source": [
    "## Calculer des bins  \n",
    "\n",
    "Afin de guider la recommendation, nous avons diviser le nombre d'heures joué en 5 bins égales contenant le même nombre de joueurs. Il est donc possible de voir, par le nombre d'heures joué, si un joueur est un super-joueur ou non.  \n",
    "\n",
    "Un graphique plus bas montre la distribution du nombre d'heure de `Sid Meier's Civilization V` par tous ses joueurs. "
   ]
  },
  {
   "cell_type": "code",
   "execution_count": 2,
   "metadata": {},
   "outputs": [],
   "source": [
    "user_games_df = pd.read_csv('./data_csv/users_games.csv')\n",
    "games_df = pd.read_csv('./data_csv/games_data.csv')"
   ]
  },
  {
   "cell_type": "code",
   "execution_count": 3,
   "metadata": {},
   "outputs": [],
   "source": [
    "games_bins = {}\n",
    "\n",
    "for _, game in games_df.iterrows():\n",
    "    game_id = game['game_id']\n",
    "    playtime = user_games_df[user_games_df['game_id'] == game_id]['playtime']\n",
    "    bin_edges = np.percentile(playtime, np.linspace(0, 100, 6)).astype(int).tolist()[1:]\n",
    "    games_bins[game_id] = bin_edges\n",
    "\n",
    "col_names = ['max_bin_1', 'max_bin_2', 'max_bin_3', 'max_bin_4', 'max_bin_5']\n",
    "# add to games_df\n",
    "for i, row in games_df.iterrows():\n",
    "    game_id = row['game_id']\n",
    "    bins = games_bins[game_id]\n",
    "    for j, bin_edge in enumerate(bins):\n",
    "        games_df.at[i, col_names[j]] = bin_edge\n",
    "\n",
    "for col in col_names:\n",
    "    games_df[col] = games_df[col].astype(int)\n",
    "\n",
    "games_df.to_csv('./data_csv/games_data_bins.csv', index=False)"
   ]
  },
  {
   "cell_type": "code",
   "execution_count": 7,
   "metadata": {},
   "outputs": [
    {
     "name": "stdout",
     "output_type": "stream",
     "text": [
      "[1, 8, 24, 56, 128, 7091]\n"
     ]
    },
    {
     "data": {
      "image/png": "[encoded data removed]",
      "text/plain": [
       "<Figure size 3000x600 with 1 Axes>"
      ]
     },
     "metadata": {},
     "output_type": "display_data"
    }
   ],
   "source": [
    "import matplotlib.pyplot as plt\n",
    "\n",
    "# cs_go = user_games_df[user_games_df['game_id'] == 730]\n",
    "users_playtime = user_games_df[user_games_df['game_id'] == 8930]\n",
    "# remove 0\n",
    "users_playtime = users_playtime[users_playtime['playtime'] > 0]\n",
    "\n",
    "playtime = users_playtime['playtime']\n",
    "num_bins = 5\n",
    "\n",
    "# pour avoir des bins de même taille (meme nombre de joueurs dans chaque bin)\n",
    "bin_edges = np.percentile(playtime, np.linspace(0, 100, num_bins + 1)).astype(int).tolist()\n",
    "print(bin_edges)\n",
    "\n",
    "plt.figure(figsize=(30, 6))\n",
    "plt.hist(users_playtime['playtime'], bins=100, log=True)\n",
    "plt.xlabel('Playtime in hours')\n",
    "plt.ylabel('Number of players')\n",
    "for edge in bin_edges:\n",
    "    plt.axvline(edge, color='r', linestyle='dashed', linewidth=1)\n",
    "plt.show()"
   ]
  },
  {
   "cell_type": "markdown",
   "metadata": {},
   "source": [
    "## Réduire les données inutiles  \n",
    "\n",
    "Après avoir traité les données, nous avons réalisé qu'elles étaient trop massives pour Neo4j avec nos ordinateurs personnels. Nous avons donc retirés les données que nous considérons inutiles. Nous avons ainsi réduit de presque moitié le nombre d'entrées, réduisant aussi significativement le nombre de liens dans Neo4j. "
   ]
  },
  {
   "cell_type": "code",
   "execution_count": null,
   "metadata": {},
   "outputs": [
    {
     "name": "stdout",
     "output_type": "stream",
     "text": [
      "9124\n"
     ]
    }
   ],
   "source": [
    "# Trouver les mauvais jeux (moins de 100 joueurs ou median time played <= 1)\n",
    "\n",
    "games = pd.read_csv('./data_csv/games_data.csv')\n",
    "few_players = games[games['player_count'] < 100]\n",
    "poor_playtime = games[games['median_time_played'] <= 1]\n",
    "few_players = pd.concat([few_players, poor_playtime])\n",
    "few_players = few_players.drop_duplicates()\n",
    "print(len(few_players)) # nombre de mauvais jeux\n",
    "few_players = few_players['game_id']\n",
    "few_players.to_csv('./data_csv/few_players.csv', index=False)"
   ]
  },
  {
   "cell_type": "code",
   "execution_count": null,
   "metadata": {},
   "outputs": [],
   "source": [
    "# Retirer les mauvais jeux des données des utilisateurs\n",
    "\n",
    "users_games = pd.read_csv('./data_csv/users_games.csv')\n",
    "poor_games = pd.read_csv('./data_csv/few_players.csv')\n",
    "users_games = users_games[users_games['playtime'] >= 1]\n",
    "users_games = users_games[~users_games['game_id'].isin(poor_games['game_id'])]\n",
    "users_games.to_csv('./data_csv/good_games/users_games.csv', index=False)"
   ]
  },
  {
   "cell_type": "code",
   "execution_count": null,
   "metadata": {},
   "outputs": [],
   "source": [
    "# Retirer les mauvais jeux des données des jeux\n",
    "\n",
    "poor_games = pd.read_csv('./data_csv/few_players.csv')\n",
    "games = pd.read_csv('./data_csv/games_data_bins.csv')\n",
    "games = games[~games['game_id'].isin(poor_games['game_id'])]\n",
    "games.to_csv('./data_csv/good_games/games_data_bins.csv', index=False)"
   ]
  },
  {
   "cell_type": "code",
   "execution_count": null,
   "metadata": {},
   "outputs": [],
   "source": [
    "# Retirer les mauvais jeux des données des reviews\n",
    "\n",
    "aus_reviews = pd.read_csv('./data_csv/aus_reviews.csv')\n",
    "poor_games = pd.read_csv('./data_csv/few_players.csv')\n",
    "aus_reviews = aus_reviews[~aus_reviews['item_id'].isin(poor_games['game_id'])]\n",
    "aus_reviews.to_csv('./data_csv/good_games/aus_reviews.csv', index=False)"
   ]
  }
 ],
 "metadata": {
  "kernelspec": {
   "display_name": "ml",
   "language": "python",
   "name": "python3"
  },
  "language_info": {
   "codemirror_mode": {
    "name": "ipython",
    "version": 3
   },
   "file_extension": ".py",
   "mimetype": "text/x-python",
   "name": "python",
   "nbconvert_exporter": "python",
   "pygments_lexer": "ipython3",
   "version": "3.10.13"
  }
 },
 "nbformat": 4,
 "nbformat_minor": 2
}
