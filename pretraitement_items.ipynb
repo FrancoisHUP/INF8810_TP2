{
 "cells": [
  {
   "cell_type": "markdown",
   "metadata": {},
   "source": [
    "# Pretraitement\n",
    "Les fichiers qui utilisent l'extension `.json` sont en fait une liste de dictionnaire python. Il est donc impossible de l'importer avec la librairie `json` puisque les dictionnaires python utilisent des `single quotes` et non des `double quotes` pout les clefs.  \n",
    "\n",
    "Les fichiers doivent être convertis en csv.  "
   ]
  },
  {
   "cell_type": "code",
   "execution_count": null,
   "metadata": {},
   "outputs": [],
   "source": [
    "# Chaque ligne du fichier est un objet JSON sérialisé (un dict Python)\n",
    "\n",
    "json_seq = {\n",
    "    'user_id': '76561198215949741', \n",
    "    'items_count': 2, \n",
    "    'steam_id': '76561198215949741', \n",
    "    'user_url': 'http://steamcommunity.com/profiles/76561198215949741', \n",
    "    'items': [\n",
    "        {\n",
    "            'item_id': '730', \n",
    "            'item_name': 'Counter-Strike: Global Offensive', \n",
    "            'playtime_forever': 38830, \n",
    "            'playtime_2weeks': 1025\n",
    "        }, \n",
    "        {\n",
    "            'item_id': '236110', \n",
    "            'item_name': 'Dungeon Defenders II', \n",
    "            'playtime_forever': 23, \n",
    "            'playtime_2weeks': 23\n",
    "        }\n",
    "    ]\n",
    "}"
   ]
  },
  {
   "cell_type": "code",
   "execution_count": 1,
   "metadata": {},
   "outputs": [],
   "source": [
    "import pandas as pd\n",
    "import numpy as np\n",
    "import math"
   ]
  },
  {
   "cell_type": "code",
   "execution_count": 1,
   "metadata": {},
   "outputs": [],
   "source": [
    "# Fonction pour importer les dictionnaires Python en liste\n",
    "\n",
    "import ast\n",
    "\n",
    "def import_python_dicts(filename, lines=None):\n",
    "    dicts = []\n",
    "    line_count = 0\n",
    "    with open(filename, 'r') as file:\n",
    "        for line in file:\n",
    "            try:\n",
    "                dictionary = ast.literal_eval(line.strip())\n",
    "                dicts.append(dictionary)\n",
    "            except (SyntaxError, ValueError) as e:\n",
    "                print(f\"Error parsing line: {line.strip()} - {e}\")\n",
    "            line_count += 1\n",
    "            if lines == line_count:\n",
    "                break\n",
    "    return dicts"
   ]
  },
  {
   "cell_type": "code",
   "execution_count": null,
   "metadata": {},
   "outputs": [],
   "source": [
    "items = import_python_dicts('./data/australian_users_items.json')\n",
    "print('loaded', len(items), 'items')"
   ]
  },
  {
   "cell_type": "markdown",
   "metadata": {},
   "source": [
    "## Games\n",
    "game_id, name, temps_total_joué, nombre_joueurs_joué"
   ]
  },
  {
   "cell_type": "code",
   "execution_count": 32,
   "metadata": {},
   "outputs": [],
   "source": [
    "games = {}\n",
    "time_played = {}\n",
    "player_count = {}\n",
    "all_times_played = {}\n",
    "\n",
    "for user in items:\n",
    "    for item in user['items']:\n",
    "        games[item['item_id']] = item['item_name']\n",
    "        if item['item_id'] not in time_played:\n",
    "            time_played[item['item_id']] = item['playtime_forever']\n",
    "        else:\n",
    "            time_played[item['item_id']] += item['playtime_forever']\n",
    "        \n",
    "        if item['playtime_forever'] > 0:\n",
    "            if item['item_id'] not in player_count:\n",
    "                player_count[item['item_id']] = 1\n",
    "            else:\n",
    "                player_count[item['item_id']] += 1\n",
    "\n",
    "            if item['item_id'] not in all_times_played:\n",
    "                all_times_played[item['item_id']] = [item['playtime_forever']]\n",
    "            else:\n",
    "                all_times_played[item['item_id']].append(item['playtime_forever'])"
   ]
  },
  {
   "cell_type": "code",
   "execution_count": null,
   "metadata": {},
   "outputs": [],
   "source": [
    "games_df = pd.DataFrame(list(games.items()), columns=['game_id', 'name'])\n",
    "\n",
    "for i, row in games_df.iterrows():\n",
    "    games_df.at[i, 'time_played'] = math.ceil(time_played[row['game_id']] / 60) if row['game_id'] in time_played else 0\n",
    "    games_df.at[i, 'player_count'] = player_count[row['game_id']] if row['game_id'] in player_count else 0\n",
    "    games_df.at[i, 'median_time_played'] = math.ceil(sorted(all_times_played[row['game_id']])[len(all_times_played[row['game_id']]) // 2] / 60) if row['game_id'] in all_times_played else 0\n",
    "\n",
    "games_df['time_played'] = games_df['time_played'].astype(int)\n",
    "games_df['player_count'] = games_df['player_count'].astype(int)\n",
    "games_df['median_time_played'] = games_df['median_time_played'].astype(int)\n",
    "games_df.to_csv('./data_csv/games_data.csv', index=False)"
   ]
  },
  {
   "cell_type": "code",
   "execution_count": 48,
   "metadata": {},
   "outputs": [
    {
     "name": "stdout",
     "output_type": "stream",
     "text": [
      "    game_id                              name  time_played  player_count  \\\n",
      "178     730  Counter-Strike: Global Offensive     13086405         43279   \n",
      "\n",
      "     median_time_played  \n",
      "178                 113  \n"
     ]
    }
   ],
   "source": [
    "# show max median time played with player count over 100\n",
    "df_over_100 = games_df[games_df['player_count'] > 10]\n",
    "max_median_time_played = df_over_100['median_time_played'].max()\n",
    "print(df_over_100[df_over_100['median_time_played'] == max_median_time_played])\n"
   ]
  },
  {
   "cell_type": "markdown",
   "metadata": {},
   "source": [
    "## User lib\n",
    "user_id, game_id, playtime (hours), active (bool)"
   ]
  },
  {
   "cell_type": "code",
   "execution_count": 15,
   "metadata": {},
   "outputs": [],
   "source": [
    "users_games = []\n",
    "for user in items:\n",
    "    if user['items_count'] == 0:\n",
    "        continue\n",
    "    for item in user['items']:\n",
    "        # if item['playtime_forever'] > 0:\n",
    "        users_games.append({\n",
    "            'user_id': user['user_id'],\n",
    "            'game_id': item['item_id'],\n",
    "            'playtime': math.ceil(item['playtime_forever'] / 60),\n",
    "            'active': item['playtime_2weeks'] > 0\n",
    "        })"
   ]
  },
  {
   "cell_type": "code",
   "execution_count": 16,
   "metadata": {},
   "outputs": [],
   "source": [
    "users_games_df = pd.DataFrame(users_games)\n",
    "users_games_df.to_csv('./data_csv/users_games.csv', index=False)"
   ]
  },
  {
   "cell_type": "markdown",
   "metadata": {},
   "source": [
    "## User data\n",
    "user_id, games_count, total_playtime, most_played_game_id"
   ]
  },
  {
   "cell_type": "code",
   "execution_count": 49,
   "metadata": {},
   "outputs": [],
   "source": [
    "users_data = []\n",
    "for user in items:\n",
    "    if user['items_count'] == 0:\n",
    "        continue\n",
    "\n",
    "    total_playtime = 0\n",
    "    for item in user['items']:\n",
    "        total_playtime += item['playtime_forever']\n",
    "\n",
    "    played_games = len([item for item in user['items'] if item['playtime_forever'] > 0])\n",
    "    \n",
    "    # if total_playtime == 0:\n",
    "    #     continue\n",
    "\n",
    "    most_played_game = max(user['items'], key=lambda x: x['playtime_forever'])\n",
    "\n",
    "    users_data.append({\n",
    "        'user_id': user['user_id'],\n",
    "        'items_count': user['items_count'],\n",
    "        'played_games': played_games,\n",
    "        'total_playtime': math.ceil(total_playtime / 60),\n",
    "        'most_played_game_id': most_played_game['item_id'],\n",
    "    })"
   ]
  },
  {
   "cell_type": "code",
   "execution_count": 50,
   "metadata": {},
   "outputs": [],
   "source": [
    "users_data_df = pd.DataFrame(users_data)\n",
    "users_data_df.to_csv('./data_csv/users_data.csv', index=False)"
   ]
  },
  {
   "cell_type": "markdown",
   "metadata": {},
   "source": [
    "## Calculer des bins"
   ]
  },
  {
   "cell_type": "code",
   "execution_count": 2,
   "metadata": {},
   "outputs": [],
   "source": [
    "user_games_df = pd.read_csv('./data_csv/users_games.csv')\n",
    "games_df = pd.read_csv('./data_csv/games_data.csv')"
   ]
  },
  {
   "cell_type": "code",
   "execution_count": 3,
   "metadata": {},
   "outputs": [],
   "source": [
    "games_bins = {}\n",
    "\n",
    "for _, game in games_df.iterrows():\n",
    "    game_id = game['game_id']\n",
    "    playtime = user_games_df[user_games_df['game_id'] == game_id]['playtime']\n",
    "    bin_edges = np.percentile(playtime, np.linspace(0, 100, 6)).astype(int).tolist()[1:]\n",
    "    games_bins[game_id] = bin_edges\n",
    "\n",
    "col_names = ['max_bin_1', 'max_bin_2', 'max_bin_3', 'max_bin_4', 'max_bin_5']\n",
    "# add to games_df\n",
    "for i, row in games_df.iterrows():\n",
    "    game_id = row['game_id']\n",
    "    bins = games_bins[game_id]\n",
    "    for j, bin_edge in enumerate(bins):\n",
    "        games_df.at[i, col_names[j]] = bin_edge\n",
    "\n",
    "for col in col_names:\n",
    "    games_df[col] = games_df[col].astype(int)\n",
    "\n",
    "games_df.to_csv('./data_csv/games_data_bins.csv', index=False)"
   ]
  },
  {
   "cell_type": "code",
   "execution_count": null,
   "metadata": {},
   "outputs": [
    {
     "name": "stdout",
     "output_type": "stream",
     "text": [
      "[0, 4, 20, 50, 120, 7091]\n"
     ]
    },
    {
     "data": {
      "image/png": "[encoded data removed]",
      "text/plain": [
       "<Figure size 1500x600 with 1 Axes>"
      ]
     },
     "metadata": {},
     "output_type": "display_data"
    }
   ],
   "source": [
    "import matplotlib.pyplot as plt\n",
    "\n",
    "# cs_go = user_games_df[user_games_df['game_id'] == 730]\n",
    "users_playtime = user_games_df[user_games_df['game_id'] == 8930]\n",
    "\n",
    "playtime = users_playtime['playtime']\n",
    "num_bins = 5\n",
    "\n",
    "# pour avoir des bins de même taille (meme nombre de joueurs dans chaque bin)\n",
    "bin_edges = np.percentile(playtime, np.linspace(0, 100, num_bins + 1)).astype(int).tolist()\n",
    "print(bin_edges)\n",
    "\n",
    "plt.figure(figsize=(15, 6))\n",
    "plt.hist(users_playtime['playtime'], bins=100)\n",
    "plt.xlabel('Playtime in hours')\n",
    "plt.ylabel('Number of players')\n",
    "for edge in bin_edges:\n",
    "    plt.axvline(edge, color='r', linestyle='dashed', linewidth=1)\n",
    "plt.show()"
   ]
  }
 ],
 "metadata": {
  "kernelspec": {
   "display_name": "ml",
   "language": "python",
   "name": "python3"
  },
  "language_info": {
   "codemirror_mode": {
    "name": "ipython",
    "version": 3
   },
   "file_extension": ".py",
   "mimetype": "text/x-python",
   "name": "python",
   "nbconvert_exporter": "python",
   "pygments_lexer": "ipython3",
   "version": "3.10.13"
  }
 },
 "nbformat": 4,
 "nbformat_minor": 2
}
